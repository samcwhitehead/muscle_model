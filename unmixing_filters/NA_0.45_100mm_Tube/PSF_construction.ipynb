{
 "cells": [
  {
   "cell_type": "code",
   "execution_count": 1,
   "metadata": {
    "collapsed": false
   },
   "outputs": [
    {
     "name": "stdout",
     "output_type": "stream",
     "text": [
      "Populating the interactive namespace from numpy and matplotlib\n"
     ]
    }
   ],
   "source": [
    "%pylab inline"
   ]
  },
  {
   "cell_type": "code",
   "execution_count": 2,
   "metadata": {
    "collapsed": true
   },
   "outputs": [],
   "source": [
    "#%matplotlib inline\n",
    "import matplotlib.pyplot as plt"
   ]
  },
  {
   "cell_type": "code",
   "execution_count": 3,
   "metadata": {
    "collapsed": true
   },
   "outputs": [],
   "source": [
    "from scipy import ndimage"
   ]
  },
  {
   "cell_type": "code",
   "execution_count": 8,
   "metadata": {
    "collapsed": false
   },
   "outputs": [],
   "source": [
    "stacks = [np.mean([ndimage.imread('./PSF_cal/im%s_%s.tiff'%(i,j),flatten = True).astype(np.float64)\n",
    "                   for j in range(1,4)], axis = 0) for i in range(1,38)]"
   ]
  },
  {
   "cell_type": "code",
   "execution_count": 5,
   "metadata": {
    "collapsed": true
   },
   "outputs": [],
   "source": [
    "#note: shutter duration in ms\n",
    "#im<21 3176.137\n",
    "#im22 1588.0685\n",
    "#im23 204.022 \n",
    "#im24 41.060\n",
    "#im26 204.022\n",
    "#im29 1588.0685\n",
    "#im34 3176.137"
   ]
  },
  {
   "cell_type": "code",
   "execution_count": 5,
   "metadata": {
    "collapsed": true
   },
   "outputs": [],
   "source": [
    "from ipywidgets import interact\n",
    "\n",
    "def browse_images(stacks):\n",
    "    n = len(stacks)\n",
    "    subfrm = stacks[0]\n",
    "    imshow(subfrm, cmap=plt.cm.gray, interpolation='none')\n",
    "    def view_image(i):\n",
    "        frm = stacks[i]\n",
    "        subfrm = frm\n",
    "        imshow(subfrm, cmap=plt.cm.gray, interpolation='none')\n",
    "        show()\n",
    "    interact(view_image, i=(0,n-1))"
   ]
  },
  {
   "cell_type": "code",
   "execution_count": 6,
   "metadata": {
    "collapsed": true
   },
   "outputs": [],
   "source": [
    "def filter_frame(frm):\n",
    "    box_size = 200\n",
    "    y = 248\n",
    "    x = 155\n",
    "    subfrm = frm[x:x+box_size,y:y+box_size]\n",
    "    bkg = np.mean(subfrm[:10,:10])\n",
    "    subfrm -= bkg\n",
    "    subfrm[subfrm<0] = 0\n",
    "    high_im = ndimage.gaussian_filter(subfrm,0.5)\n",
    "    low_im = ndimage.gaussian_filter(subfrm,25)\n",
    "    subfrm = high_im-low_im\n",
    "    subfrm[subfrm<0] = 0\n",
    "    subfrm = subfrm/np.max(subfrm)\n",
    "    return subfrm"
   ]
  },
  {
   "cell_type": "code",
   "execution_count": 7,
   "metadata": {
    "collapsed": true
   },
   "outputs": [
    {
     "ename": "NameError",
     "evalue": "name 'stacks' is not defined",
     "output_type": "error",
     "traceback": [
      "\u001b[0;31m\u001b[0m",
      "\u001b[0;31mNameError\u001b[0mTraceback (most recent call last)",
      "\u001b[0;32m<ipython-input-7-b6a1196a5eb9>\u001b[0m in \u001b[0;36m<module>\u001b[0;34m()\u001b[0m\n\u001b[0;32m----> 1\u001b[0;31m \u001b[0mfiltered_images\u001b[0m \u001b[0;34m=\u001b[0m \u001b[0;34m[\u001b[0m\u001b[0mfilter_frame\u001b[0m\u001b[0;34m(\u001b[0m\u001b[0mfr\u001b[0m\u001b[0;34m)\u001b[0m \u001b[0;32mfor\u001b[0m \u001b[0mfr\u001b[0m \u001b[0;32min\u001b[0m \u001b[0mstacks\u001b[0m\u001b[0;34m[\u001b[0m\u001b[0;36m7\u001b[0m\u001b[0;34m:\u001b[0m\u001b[0;34m]\u001b[0m\u001b[0;34m]\u001b[0m\u001b[0;34m\u001b[0m\u001b[0m\n\u001b[0m",
      "\u001b[0;31mNameError\u001b[0m: name 'stacks' is not defined"
     ]
    }
   ],
   "source": [
    "filtered_images = [filter_frame(fr) for fr in stacks[7:]]"
   ]
  },
  {
   "cell_type": "code",
   "execution_count": 9,
   "metadata": {
    "collapsed": false
   },
   "outputs": [
    {
     "data": {
      "text/plain": [
       "230.44199999999998"
      ]
     },
     "execution_count": 9,
     "metadata": {},
     "output_type": "execute_result"
    }
   ],
   "source": [
    "1.158*199"
   ]
  },
  {
   "cell_type": "code",
   "execution_count": 10,
   "metadata": {
    "collapsed": false
   },
   "outputs": [
    {
     "data": {
      "image/png": "[encoded data removed]",
      "text/plain": [
       "<matplotlib.figure.Figure at 0x7f8ba7c93410>"
      ]
     },
     "metadata": {},
     "output_type": "display_data"
    }
   ],
   "source": [
    "browse_images(filtered_images)"
   ]
  },
  {
   "cell_type": "code",
   "execution_count": 11,
   "metadata": {
    "collapsed": false
   },
   "outputs": [],
   "source": [
    "values = np.array(filtered_images)"
   ]
  },
  {
   "cell_type": "code",
   "execution_count": 4,
   "metadata": {
    "collapsed": false
   },
   "outputs": [
    {
     "ename": "NameError",
     "evalue": "name 'values' is not defined",
     "output_type": "error",
     "traceback": [
      "\u001b[0;31m\u001b[0m",
      "\u001b[0;31mNameError\u001b[0mTraceback (most recent call last)",
      "\u001b[0;32m<ipython-input-4-146d8929ddad>\u001b[0m in \u001b[0;36m<module>\u001b[0;34m()\u001b[0m\n\u001b[1;32m     15\u001b[0m                                   \u001b[0mw_h\u001b[0m\u001b[0;34m*\u001b[0m\u001b[0;34m-\u001b[0m\u001b[0;36m0.5\u001b[0m\u001b[0;34m:\u001b[0m\u001b[0mw_h\u001b[0m\u001b[0;34m*\u001b[0m\u001b[0;36m0.5\u001b[0m\u001b[0;34m:\u001b[0m\u001b[0;36m1024j\u001b[0m\u001b[0;34m,\u001b[0m\u001b[0;34m\u001b[0m\u001b[0m\n\u001b[1;32m     16\u001b[0m                                   w_h*-0.5:w_h*0.5:1024j,]\n\u001b[0;32m---> 17\u001b[0;31m \u001b[0mPSF\u001b[0m \u001b[0;34m=\u001b[0m \u001b[0mRegularGridInterpolator\u001b[0m\u001b[0;34m(\u001b[0m\u001b[0mpnts\u001b[0m\u001b[0;34m,\u001b[0m \u001b[0mvalues\u001b[0m\u001b[0;34m,\u001b[0m \u001b[0mmethod\u001b[0m\u001b[0;34m=\u001b[0m\u001b[0;34m'linear'\u001b[0m\u001b[0;34m,\u001b[0m\u001b[0mbounds_error\u001b[0m \u001b[0;34m=\u001b[0m \u001b[0mFalse\u001b[0m\u001b[0;34m,\u001b[0m\u001b[0mfill_value\u001b[0m \u001b[0;34m=\u001b[0m \u001b[0;36m0\u001b[0m\u001b[0;34m)\u001b[0m\u001b[0;34m\u001b[0m\u001b[0m\n\u001b[0m",
      "\u001b[0;31mNameError\u001b[0m: name 'values' is not defined"
     ]
    }
   ],
   "source": [
    "from scipy.interpolate import RegularGridInterpolator\n",
    "\n",
    "# focal plane spacing is 100um\n",
    "# pixel pitch 0.8639 pixels/um = 1.158 um/pixel\n",
    "pnts = ((np.linspace(0,30*20.,31) -  (14*20.))[:-1],\n",
    "        np.linspace(0,1.158*199,200) - (1.158*199/2.0),\n",
    "        np.linspace(0,1.158*199,200) - (1.158*199/2.0))\n",
    "\n",
    "#Voxel size: 0.7568x0.7568x2.9793 micron^3\n",
    "#74 z-slices in original make psf twice as large so we can place the putative focal \n",
    "#plane on any slice.\n",
    "total_z = 2.9793*(74*2)\n",
    "w_h = 0.7568*1024\n",
    "grid_z, grid_x, grid_y = np.mgrid[total_z*-0.5:total_z*0.5:74*2j,\n",
    "                                  w_h*-0.5:w_h*0.5:1024j, \n",
    "                                  w_h*-0.5:w_h*0.5:1024j,]\n",
    "PSF = RegularGridInterpolator(pnts, values, method='linear',bounds_error = False,fill_value = 0)"
   ]
  },
  {
   "cell_type": "code",
   "execution_count": 14,
   "metadata": {
    "collapsed": false
   },
   "outputs": [],
   "source": [
    "interp = PSF((grid_z,grid_x,grid_y))"
   ]
  },
  {
   "cell_type": "code",
   "execution_count": 15,
   "metadata": {
    "collapsed": false
   },
   "outputs": [],
   "source": [
    "import h5py"
   ]
  },
  {
   "cell_type": "code",
   "execution_count": 16,
   "metadata": {
    "collapsed": true
   },
   "outputs": [],
   "source": [
    "#!rm interpolated_PSF.hdf5"
   ]
  },
  {
   "cell_type": "code",
   "execution_count": 17,
   "metadata": {
    "collapsed": true
   },
   "outputs": [],
   "source": [
    "psf_file = h5py.File('interpolated_PSF.hdf5','a')"
   ]
  },
  {
   "cell_type": "code",
   "execution_count": 18,
   "metadata": {
    "collapsed": false
   },
   "outputs": [],
   "source": [
    "psf_data = psf_file.create_dataset('data',data = interp,compression = 'gzip')"
   ]
  },
  {
   "cell_type": "code",
   "execution_count": 11,
   "metadata": {
    "collapsed": false
   },
   "outputs": [
    {
     "ename": "NameError",
     "evalue": "name 'psf_data' is not defined",
     "output_type": "error",
     "traceback": [
      "\u001b[0;31m\u001b[0m",
      "\u001b[0;31mNameError\u001b[0mTraceback (most recent call last)",
      "\u001b[0;32m<ipython-input-11-dd704e2d11bb>\u001b[0m in \u001b[0;36m<module>\u001b[0;34m()\u001b[0m\n\u001b[0;32m----> 1\u001b[0;31m \u001b[0mbrowse_images\u001b[0m\u001b[0;34m(\u001b[0m\u001b[0mpsf_data\u001b[0m\u001b[0;34m[\u001b[0m\u001b[0;34m:\u001b[0m\u001b[0;34m,\u001b[0m\u001b[0;36m400\u001b[0m\u001b[0;34m:\u001b[0m\u001b[0;36m600\u001b[0m\u001b[0;34m,\u001b[0m\u001b[0;36m400\u001b[0m\u001b[0;34m:\u001b[0m\u001b[0;36m600\u001b[0m\u001b[0;34m]\u001b[0m\u001b[0;34m)\u001b[0m\u001b[0;34m\u001b[0m\u001b[0m\n\u001b[0m",
      "\u001b[0;31mNameError\u001b[0m: name 'psf_data' is not defined"
     ]
    }
   ],
   "source": [
    "browse_images(psf_data[:,400:600,400:600])"
   ]
  },
  {
   "cell_type": "code",
   "execution_count": 4,
   "metadata": {
    "collapsed": true
   },
   "outputs": [],
   "source": [
    "import os"
   ]
  },
  {
   "cell_type": "code",
   "execution_count": 5,
   "metadata": {
    "collapsed": false
   },
   "outputs": [
    {
     "name": "stdout",
     "output_type": "stream",
     "text": [
      "b1\n",
      "b2\n",
      "b3\n",
      "i1\n",
      "i2\n",
      "iii1\n",
      "iii3\n",
      "iii4\n",
      "hg1\n",
      "hg2\n",
      "hg3\n",
      "hg4\n",
      "tpd\n",
      "tpv\n",
      "pr\n",
      "nm\n",
      "DVM1\n",
      "DVM2\n",
      "DVM3\n"
     ]
    }
   ],
   "source": [
    "muscle_list = ['b1','b2','b3','i1','i2',\n",
    "               'iii1','iii3','iii4',\n",
    "               'hg1','hg2','hg3','hg4',\n",
    "               'tpd','tpv','pr','nm','DVM1','DVM2','DVM3']\n",
    "\n",
    "\n",
    "root_str = '../../confocal_reference/65G06_muscle_8bit_%s_layers/'\n",
    "muscle_tiff_dict = dict()\n",
    "for mn in muscle_list:\n",
    "    files = [root_str%(mn) + '/65G06_muscle_8bit_%s_layers%s.tif'%(mn,i) for i in range(74)][::-1]\n",
    "    tmp = np.array([ndimage.imread(f,mode = 'RGBA') for f in files])\n",
    "    #convert to grayscale floats applying alpha channel\n",
    "    threech = tmp[:,:,:,:3].astype(float) * tmp[:,:,:,3:4]\n",
    "    muscle_tiff_dict[mn] = np.mean(threech,axis = 3)\n",
    "    print mn"
   ]
  },
  {
   "cell_type": "code",
   "execution_count": 9,
   "metadata": {},
   "outputs": [
    {
     "data": {
      "text/plain": [
       "<matplotlib.image.AxesImage at 0x7f4d73289f90>"
      ]
     },
     "execution_count": 9,
     "metadata": {},
     "output_type": "execute_result"
    },
    {
     "data": {
      "image/png": "[encoded data removed]",
      "text/plain": [
       "<matplotlib.figure.Figure at 0x7f4d73408ad0>"
      ]
     },
     "metadata": {},
     "output_type": "display_data"
    }
   ],
   "source": [
    "plt.imshow(np.sum(muscle_tiff_dict['hg1'],axis =0),cmap = cm.gray)"
   ]
  },
  {
   "cell_type": "code",
   "execution_count": 25,
   "metadata": {
    "collapsed": false
   },
   "outputs": [
    {
     "data": {
      "image/png": "[encoded data removed]",
      "text/plain": [
       "<matplotlib.figure.Figure at 0x7fbfdd6cbcd0>"
      ]
     },
     "metadata": {},
     "output_type": "display_data"
    }
   ],
   "source": [
    "browse_images(muscle_tiff_dict['b3'])"
   ]
  },
  {
   "cell_type": "code",
   "execution_count": 29,
   "metadata": {
    "collapsed": true
   },
   "outputs": [],
   "source": [
    "def get_kernel(idx):\n",
    "    ref_idx = 28\n",
    "    psf_center_idx = len(psf_data)/2\n",
    "    get_idx = (idx-ref_idx) + psf_center_idx\n",
    "    img = np.array(psf_data[get_idx])\n",
    "    return img/float(np.nansum(img))"
   ]
  },
  {
   "cell_type": "code",
   "execution_count": 30,
   "metadata": {
    "collapsed": true
   },
   "outputs": [],
   "source": [
    "def blur_slice(img,idx):\n",
    "    \"\"\"blurr a slice\"\"\"\n",
    "    img = (img>0).astype(float)\n",
    "    from scipy.signal import fftconvolve \n",
    "    kernel = get_kernel(idx)\n",
    "    img_out = fftconvolve(img,kernel,mode = 'same')\n",
    "    return img_out*float(sum(img))/float(np.nansum(img_out))"
   ]
  },
  {
   "cell_type": "code",
   "execution_count": 35,
   "metadata": {
    "collapsed": false
   },
   "outputs": [
    {
     "name": "stderr",
     "output_type": "stream",
     "text": [
      "/home/imager/.local/lib/python2.7/site-packages/ipykernel/__main__.py:7: RuntimeWarning: invalid value encountered in divide\n"
     ]
    }
   ],
   "source": [
    "stk = [blur_slice(img,i) for i,img in enumerate(muscle_tiff_dict['b2'])]"
   ]
  },
  {
   "cell_type": "code",
   "execution_count": 36,
   "metadata": {
    "collapsed": false
   },
   "outputs": [
    {
     "data": {
      "text/plain": [
       "<matplotlib.image.AxesImage at 0x7fbeefc50b90>"
      ]
     },
     "execution_count": 36,
     "metadata": {},
     "output_type": "execute_result"
    },
    {
     "data": {
      "image/png": "[encoded data removed]",
      "text/plain": [
       "<matplotlib.figure.Figure at 0x7fbeefce8310>"
      ]
     },
     "metadata": {},
     "output_type": "display_data"
    }
   ],
   "source": [
    "imshow(np.nanmean(stk,axis = 0),cmap =cm.gray)"
   ]
  }
 ],
 "metadata": {
  "kernelspec": {
   "display_name": "Python 2",
   "language": "python",
   "name": "python2"
  },
  "language_info": {
   "codemirror_mode": {
    "name": "ipython",
    "version": 2
   },
   "file_extension": ".py",
   "mimetype": "text/x-python",
   "name": "python",
   "nbconvert_exporter": "python",
   "pygments_lexer": "ipython2",
   "version": "2.7.12"
  },
  "widgets": {
   "state": {
    "080a608e8ed041ee819897432d022ce6": {
     "views": [
      {
       "cell_index": 20
      }
     ]
    },
    "1c54b27a15ed4a049c0b7be1dd9cf06a": {
     "views": [
      {
       "cell_index": 17
      }
     ]
    },
    "de0b1c46142a4abc9fd524cfc4764ab1": {
     "views": [
      {
       "cell_index": 9
      }
     ]
    }
   },
   "version": "1.2.0"
  }
 },
 "nbformat": 4,
 "nbformat_minor": 2
}
